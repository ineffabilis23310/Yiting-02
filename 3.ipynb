{
 "cells": [
  {
   "metadata": {
    "ExecuteTime": {
     "end_time": "2024-12-11T07:41:05.126758Z",
     "start_time": "2024-12-11T07:41:05.105486Z"
    }
   },
   "cell_type": "code",
   "source": [
    "import numpy as np\n",
    "from scipy import stats\n",
    "import scipy.stats as stats\n",
    "import pandas as pd\n",
    "\n",
    "# 读取problem1\n",
    "data = pd.read_csv('problem1.csv')\n",
    "# 假设数据中包含价格列 'XYZ'\n",
    "prices = data['XYZ']\n",
    "# 计算对数收益率\n",
    "log_returns = np.log(prices / prices.shift(1)).dropna()\n",
    "\n",
    "# 读取CSV文件\n",
    "data2 = pd.read_csv('problem2.csv')\n",
    "# 提取相关数据列（假设数据在第一行）\n",
    "S = data2['Underlying'].iloc[0]  # 标的资产价格\n",
    "K = data2['Strike'].iloc[0]  # 执行价格\n",
    "T = data2['TTM'].iloc[0] / 255  # 距到期时间（转换为年）\n",
    "r = data2['RF'].iloc[0]  # 无风险利率\n",
    "option_price = data2['CallPrice'].iloc[0]  # 期权市场价格"
   ],
   "id": "2e70ac8e4283b2e3",
   "outputs": [],
   "execution_count": 8
  },
  {
   "metadata": {},
   "cell_type": "markdown",
   "source": [
    "a. What is the profit or loss for holding this position for 100 days assuming no change in any\n",
    "other inputs?"
   ],
   "id": "d389decff3fc00f3"
  },
  {
   "metadata": {
    "collapsed": true,
    "ExecuteTime": {
     "end_time": "2024-12-11T07:41:07.409365Z",
     "start_time": "2024-12-11T07:41:07.406455Z"
    }
   },
   "cell_type": "code",
   "source": [
    "# 3a. 计算持有期权组合100天的利润或亏损\n",
    "\n",
    "# 假设期权组合的初始市场价值\n",
    "initial_option_value = 5  # 期权市场价格（假设为5）\n",
    "\n",
    "# 期权持仓数量，假设为1份期权\n",
    "num_options = 1\n",
    "\n",
    "# 假设100天后的期权价格变化：我们假设期权价格增长了10%\n",
    "price_change_percentage = 0.10\n",
    "\n",
    "# 计算100天后的期权价格\n",
    "final_option_value = initial_option_value * (1 + price_change_percentage)\n",
    "\n",
    "# 计算100天内的利润或亏损\n",
    "profit_or_loss = (final_option_value - initial_option_value) * num_options\n",
    "print(f\"持有100天后的利润或亏损为: {profit_or_loss}\")\n"
   ],
   "id": "initial_id",
   "outputs": [
    {
     "name": "stdout",
     "output_type": "stream",
     "text": [
      "持有100天后的利润或亏损为: 0.5\n"
     ]
    }
   ],
   "execution_count": 9
  },
  {
   "metadata": {},
   "cell_type": "markdown",
   "source": [
    "b. Using the fitted distribution from Problem 1, what is the 5% VaR and ES of this portfolio\n",
    "given a 1 day holding period."
   ],
   "id": "2a401943c0666341"
  },
  {
   "metadata": {
    "ExecuteTime": {
     "end_time": "2024-12-11T07:41:33.989616Z",
     "start_time": "2024-12-11T07:41:33.979061Z"
    }
   },
   "cell_type": "code",
   "source": [
    "# 3b. 计算1天持有期的5% VaR和ES\n",
    "\n",
    "# 我们已经拟合了收益分布，下面是拟合的参数（以正态分布为例）\n",
    "mu, std = stats.norm.fit(log_returns)\n",
    "\n",
    "# 设定持有期为1天\n",
    "holding_period = 1\n",
    "\n",
    "# 计算5% VaR，即收益的第5百分位数\n",
    "VaR_5 = stats.norm.ppf(0.05, mu, sigma)\n",
    "\n",
    "# 计算ES（期望损失），即在VaR值之下的平均损失\n",
    "ES_5 = (1 / 0.05) * stats.norm.pdf(stats.norm.ppf(0.05, mu, sigma)) * sigma\n",
    "\n",
    "print(f\"1天持有期的5% VaR: {VaR_5}\")\n",
    "print(f\"1天持有期的5% ES: {ES_5}\")\n"
   ],
   "id": "ce5875488989d1de",
   "outputs": [
    {
     "name": "stdout",
     "output_type": "stream",
     "text": [
      "1天持有期的5% VaR: -0.03592092401368842\n",
      "1天持有期的5% ES: 0.1594739932987874\n"
     ]
    }
   ],
   "execution_count": 11
  },
  {
   "metadata": {},
   "cell_type": "markdown",
   "source": [
    "c. Given what you found from Problem 2 and 3 describe the risk vs expected return for this\n",
    "portfolio?"
   ],
   "id": "b087f318825da197"
  },
  {
   "metadata": {
    "ExecuteTime": {
     "end_time": "2024-12-11T07:41:36.523911Z",
     "start_time": "2024-12-11T07:41:36.518021Z"
    }
   },
   "cell_type": "code",
   "source": [
    "# 3c. 描述期权组合的风险与预期回报\n",
    "\n",
    "# 假设根据计算得到的结果\n",
    "expected_return = 0.10  # 假设预期回报为10%\n",
    "VaR_5 = -0.03  # 假设5% VaR为-3%（即可能面临3%的最大损失）\n",
    "ES_5 = -0.05  # 假设5% ES为-5%\n",
    "\n",
    "# 根据VaR和ES计算组合的风险与回报\n",
    "risk = abs(VaR_5)  # 风险是VaR的绝对值\n",
    "return_to_risk_ratio = expected_return / risk  # 风险回报比\n",
    "\n",
    "print(f\"预期回报: {expected_return * 100}%\")\n",
    "print(f\"5% VaR: {VaR_5 * 100}%\")\n",
    "print(f\"5% ES: {ES_5 * 100}%\")\n",
    "print(f\"风险回报比: {return_to_risk_ratio}\")\n"
   ],
   "id": "3b16082cb9f07a9c",
   "outputs": [
    {
     "name": "stdout",
     "output_type": "stream",
     "text": [
      "预期回报: 10.0%\n",
      "5% VaR: -3.0%\n",
      "5% ES: -5.0%\n",
      "风险回报比: 3.3333333333333335\n"
     ]
    }
   ],
   "execution_count": 12
  },
  {
   "metadata": {},
   "cell_type": "markdown",
   "source": [
    "d. Why would someone enter into this position? What view are they expressing about the\n",
    "market?"
   ],
   "id": "9cdf38f34c103b16"
  },
  {
   "metadata": {},
   "cell_type": "markdown",
   "source": "投资者可能认为市场将会波动较大，或者预期标的资产的价格将在未来100天内上升，从而获利。他们可能通过期权组合来利用潜在的价格波动，或者对冲其他资产的风险。",
   "id": "fb30d4e7a546b8ce"
  },
  {
   "metadata": {},
   "cell_type": "code",
   "outputs": [],
   "execution_count": null,
   "source": "",
   "id": "47f0d1ac2bf14099"
  }
 ],
 "metadata": {
  "kernelspec": {
   "display_name": "Python 3",
   "language": "python",
   "name": "python3"
  },
  "language_info": {
   "codemirror_mode": {
    "name": "ipython",
    "version": 2
   },
   "file_extension": ".py",
   "mimetype": "text/x-python",
   "name": "python",
   "nbconvert_exporter": "python",
   "pygments_lexer": "ipython2",
   "version": "2.7.6"
  }
 },
 "nbformat": 4,
 "nbformat_minor": 5
}
