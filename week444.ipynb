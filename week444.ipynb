{
 "cells": [
  {
   "cell_type": "code",
   "id": "initial_id",
   "metadata": {
    "collapsed": true,
    "ExecuteTime": {
     "end_time": "2024-12-13T00:23:34.168173Z",
     "start_time": "2024-12-13T00:23:33.736748Z"
    }
   },
   "source": [
    "import pandas as pd\n",
    "import numpy as np\n",
    "from scipy.stats import norm\n",
    "\n",
    "# 加载数据\n",
    "data = pd.read_csv('problem4.csv')\n",
    "\n",
    "# 检查数据格式\n",
    "print(data.head())\n",
    "\n",
    "# 计算指数加权协方差矩阵\n",
    "def exponential_covariance(data, lambda_ewma=0.94):\n",
    "    \"\"\"\n",
    "    计算指数加权协方差矩阵\n",
    "    参数:\n",
    "        data (DataFrame): 每列为资产的收益数据\n",
    "        lambda_ewma (float): 指数加权因子\n",
    "    返回:\n",
    "        cov_matrix (numpy array): 指数加权协方差矩阵\n",
    "    \"\"\"\n",
    "    returns = data.values\n",
    "    weights = (1 - lambda_ewma) * lambda_ewma ** np.arange(len(returns)-1, -1, -1)\n",
    "    weights /= np.sum(weights)  # 标准化权重\n",
    "    mean_returns = np.average(returns, axis=0, weights=weights)\n",
    "    deviations = returns - mean_returns\n",
    "    cov_matrix = np.dot(weights * deviations.T, deviations)\n",
    "    return cov_matrix\n",
    "\n",
    "# 计算协方差矩阵\n",
    "lambda_ewma = 0.94\n",
    "cov_matrix = exponential_covariance(data, lambda_ewma)\n",
    "print(\"指数加权协方差矩阵:\")\n",
    "print(cov_matrix)\n"
   ],
   "outputs": [
    {
     "name": "stdout",
     "output_type": "stream",
     "text": [
      "         x1        x2        x3        x4        x5\n",
      "0  0.085766 -0.118260 -0.010997 -0.000582 -0.009273\n",
      "1 -0.127694  0.287384  0.205569 -0.098169  0.115423\n",
      "2  0.062381  0.074674  0.042317 -0.031115  0.060666\n",
      "3  0.080215 -0.159533 -0.082036  0.071518 -0.073672\n",
      "4 -0.093351  0.046987 -0.056058  0.003045 -0.014686\n",
      "指数加权协方差矩阵:\n",
      "[[ 0.00800778 -0.001406   -0.00417763  0.00181268  0.00055517]\n",
      " [-0.001406    0.00532315  0.00295607 -0.00223105  0.00270149]\n",
      " [-0.00417763  0.00295607  0.00583109 -0.00303737  0.00182102]\n",
      " [ 0.00181268 -0.00223105 -0.00303737  0.00285228 -0.00215035]\n",
      " [ 0.00055517  0.00270149  0.00182102 -0.00215035  0.00244845]]\n"
     ]
    }
   ],
   "execution_count": 6
  },
  {
   "metadata": {},
   "cell_type": "markdown",
   "source": "# a. What are the risk parity portfolio weights using standard deviation as your risk measure? (",
   "id": "3215207819d09c10"
  },
  {
   "metadata": {
    "ExecuteTime": {
     "end_time": "2024-12-13T00:23:35.685520Z",
     "start_time": "2024-12-13T00:23:35.680873Z"
    }
   },
   "cell_type": "code",
   "source": [
    "# 4a. 计算风险平价组合权重（基于标准差）\n",
    "def risk_parity_weights_std(cov_matrix):\n",
    "    \"\"\"\n",
    "    使用标准差作为风险测量计算风险平价组合权重\n",
    "    参数:\n",
    "        cov_matrix (numpy array): 协方差矩阵\n",
    "    返回:\n",
    "        weights (numpy array): 风险平价组合权重\n",
    "    \"\"\"\n",
    "    std_devs = np.sqrt(np.diag(cov_matrix))  # 每个资产的标准差\n",
    "    inverse_std = 1 / std_devs  # 风险的倒数\n",
    "    weights = inverse_std / np.sum(inverse_std)  # 归一化权重\n",
    "    return weights\n",
    "\n",
    "weights_std = risk_parity_weights_std(cov_matrix)\n",
    "print(\"基于标准差的风险平价组合权重:\")\n",
    "print(weights_std)\n"
   ],
   "id": "1925638c62af02dd",
   "outputs": [
    {
     "name": "stdout",
     "output_type": "stream",
     "text": [
      "基于标准差的风险平价组合权重:\n",
      "[0.1452979  0.17820953 0.17027101 0.24345536 0.2627662 ]\n"
     ]
    }
   ],
   "execution_count": 7
  },
  {
   "metadata": {},
   "cell_type": "markdown",
   "source": "# b. What are the risk parity portfolio weights using expected shortfall as your risk measure?",
   "id": "c32a542ef403a317"
  },
  {
   "metadata": {
    "ExecuteTime": {
     "end_time": "2024-12-13T00:23:58.384613Z",
     "start_time": "2024-12-13T00:23:58.370393Z"
    }
   },
   "cell_type": "code",
   "source": [
    "# 4b. 计算风险平价组合权重（基于期望短缺）\n",
    "def calculate_es_std(mean=0, std=1, alpha=0.05):\n",
    "    \"\"\"\n",
    "    计算正态分布的期望短缺（ES）\n",
    "    参数:\n",
    "        mean (float): 均值\n",
    "        std (float): 标准差\n",
    "        alpha (float): 置信水平\n",
    "    返回:\n",
    "        es (float): 期望短缺值\n",
    "    \"\"\"\n",
    "    var = norm.ppf(alpha, loc=mean, scale=std)\n",
    "    es = mean - std * norm.pdf(norm.ppf(alpha)) / alpha\n",
    "    return -es\n",
    "\n",
    "def risk_parity_weights_es(cov_matrix, alpha=0.05):\n",
    "    \"\"\"\n",
    "    使用期望短缺 (ES) 作为风险测量计算风险平价组合权重\n",
    "    参数:\n",
    "        cov_matrix (numpy array): 协方差矩阵\n",
    "        alpha (float): 置信水平\n",
    "    返回:\n",
    "        weights (numpy array): 风险平价组合权重\n",
    "    \"\"\"\n",
    "    std_devs = np.sqrt(np.diag(cov_matrix))  # 每个资产的标准差\n",
    "    es_values = np.array([calculate_es_std(std=std, alpha=alpha) for std in std_devs])  # 每个资产的 ES\n",
    "    inverse_es = 1 / es_values  # ES 的倒数\n",
    "    weights = inverse_es / np.sum(inverse_es)  # 归一化权重\n",
    "    return weights\n",
    "\n",
    "weights_es = risk_parity_weights_es(cov_matrix, alpha=0.05)\n",
    "print(\"基于期望短缺 (ES) 的风险平价组合权重:\")\n",
    "print(weights_es)\n"
   ],
   "id": "45a8915529b8d399",
   "outputs": [
    {
     "name": "stdout",
     "output_type": "stream",
     "text": [
      "基于期望短缺 (ES) 的风险平价组合权重:\n",
      "[0.1452979  0.17820953 0.17027101 0.24345536 0.2627662 ]\n"
     ]
    }
   ],
   "execution_count": 8
  },
  {
   "metadata": {},
   "cell_type": "code",
   "outputs": [],
   "execution_count": null,
   "source": "",
   "id": "de2fa82234f73c27"
  }
 ],
 "metadata": {
  "kernelspec": {
   "display_name": "Python 3",
   "language": "python",
   "name": "python3"
  },
  "language_info": {
   "codemirror_mode": {
    "name": "ipython",
    "version": 2
   },
   "file_extension": ".py",
   "mimetype": "text/x-python",
   "name": "python",
   "nbconvert_exporter": "python",
   "pygments_lexer": "ipython2",
   "version": "2.7.6"
  }
 },
 "nbformat": 4,
 "nbformat_minor": 5
}
