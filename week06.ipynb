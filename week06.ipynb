{
 "cells": [
  {
   "metadata": {
    "ExecuteTime": {
     "end_time": "2024-12-12T05:40:06.663964Z",
     "start_time": "2024-12-12T05:40:06.655296Z"
    }
   },
   "cell_type": "code",
   "source": [
    "import numpy as np\n",
    "import pandas as pd\n",
    "from scipy.stats import norm, t"
   ],
   "id": "38daa9a667b99ea5",
   "outputs": [],
   "execution_count": 10
  },
  {
   "metadata": {},
   "cell_type": "markdown",
   "source": [
    "# a. Assume\n",
    "i. Initial stock price is $100\n",
    "ii. Strike price of the option is $100\n",
    "iii. Risk free rate is 0.0525%\n",
    "iv. The stock does not pay dividends.\n",
    "v. The expected return on the stock is 10%.\n",
    "vi. Implied volatility of the option equals the realized volatility of the stock which is\n",
    "25% annually.\n",
    "vii. The option expires in 1 year.\n",
    "viii. You will hold the portfolio until option expiration.\n",
    "ix. You are allowed to short either the option or the stock, but no weight should be <-1"
   ],
   "id": "710bb2dd3fb37c33"
  },
  {
   "cell_type": "code",
   "id": "initial_id",
   "metadata": {
    "collapsed": true,
    "ExecuteTime": {
     "end_time": "2024-12-12T05:40:07.071319Z",
     "start_time": "2024-12-12T05:40:07.062735Z"
    }
   },
   "source": [
    "# 参数定义\n",
    "initial_stock_price = 100  # 初始股价\n",
    "strike_price = 100         # 期权执行价\n",
    "risk_free_rate = 0.0525 / 100  # 无风险利率（年化）\n",
    "expected_return_stock = 0.10   # 股票期望回报率（年化）\n",
    "volatility_stock = 0.25        # 股票的年化波动率\n",
    "time_to_expiry = 1            # 期权到期时间（1年）\n",
    "n_simulations = 100000        # 模拟次数\n",
    "alpha = 0.01                  # ES置信水平\n",
    "\n",
    "# 期权定价模型（Black-Scholes公式）\n",
    "def black_scholes_put(S, K, T, r, sigma):\n",
    "    d1 = (np.log(S / K) + (r + 0.5 * sigma**2) * T) / (sigma * np.sqrt(T))\n",
    "    d2 = d1 - sigma * np.sqrt(T)\n",
    "    put_price = K * np.exp(-r * T) * norm.cdf(-d2) - S * norm.cdf(-d1)\n",
    "    return put_price\n",
    "\n",
    "# 计算期望短缺 (Expected Shortfall, ES)\n",
    "def calculate_es(returns, alpha=0.01):\n",
    "    \"\"\"\n",
    "    根据模拟的收益数据计算期望短缺 (ES)。\n",
    "    参数:\n",
    "        returns (numpy array): 模拟的收益数组。\n",
    "        alpha (float): VaR 的置信水平，默认为 0.01 (1%)。\n",
    "    返回:\n",
    "        es (float): 期望短缺值 (ES)。\n",
    "    \"\"\"\n",
    "    # 计算 VaR (分位数)\n",
    "    var_threshold = np.percentile(returns, alpha * 100)\n",
    "    # 筛选低于 VaR 的收益值\n",
    "    tail_losses = returns[returns <= var_threshold]\n",
    "    # 计算 ES\n",
    "    es = np.mean(tail_losses) if len(tail_losses) > 0 else var_threshold\n",
    "    return es\n",
    "\n",
    "# 计算期权初始价格\n",
    "initial_put_price = black_scholes_put(\n",
    "    S=initial_stock_price, \n",
    "    K=strike_price, \n",
    "    T=time_to_expiry, \n",
    "    r=risk_free_rate, \n",
    "    sigma=volatility_stock\n",
    ")\n",
    "\n",
    "print(f\"初始股价: ${initial_stock_price}\")\n",
    "print(f\"初始看跌期权价格: ${initial_put_price:.2f}\")\n"
   ],
   "outputs": [
    {
     "name": "stdout",
     "output_type": "stream",
     "text": [
      "初始股价: $100\n",
      "初始看跌期权价格: $9.92\n"
     ]
    }
   ],
   "execution_count": 11
  },
  {
   "metadata": {},
   "cell_type": "markdown",
   "source": "# b. Simulate 100,000 returns of both the stock and option through the holding period. Calculate the covariance between these",
   "id": "2fce7ddcc83611d5"
  },
  {
   "metadata": {
    "ExecuteTime": {
     "end_time": "2024-12-12T05:40:08.008292Z",
     "start_time": "2024-12-12T05:40:07.998099Z"
    }
   },
   "cell_type": "code",
   "source": [
    "# 模拟股票价格路径\n",
    "np.random.seed(42)  # 固定随机种子\n",
    "z_stock = np.random.normal(size=n_simulations)\n",
    "stock_returns = expected_return_stock * time_to_expiry + \\\n",
    "                volatility_stock * np.sqrt(time_to_expiry) * z_stock\n",
    "simulated_stock_prices = initial_stock_price * np.exp(stock_returns)\n",
    "\n",
    "# 模拟期权到期价格\n",
    "def put_payoff(S, K):\n",
    "    return np.maximum(K - S, 0)\n",
    "\n",
    "simulated_put_prices = put_payoff(simulated_stock_prices, strike_price)\n",
    "\n",
    "# 计算持有期收益率\n",
    "stock_returns_held = (simulated_stock_prices - initial_stock_price) / initial_stock_price\n",
    "put_returns_held = (simulated_put_prices - initial_put_price) / initial_put_price\n",
    "\n",
    "# 计算协方差\n",
    "covariance = np.cov(stock_returns_held, put_returns_held)[0, 1]\n",
    "print(f\"股票和期权的收益协方差: {covariance:.4f}\")\n"
   ],
   "id": "a77cae1d06f1d9a9",
   "outputs": [
    {
     "name": "stdout",
     "output_type": "stream",
     "text": [
      "股票和期权的收益协方差: -0.1857\n"
     ]
    }
   ],
   "execution_count": 12
  },
  {
   "metadata": {},
   "cell_type": "markdown",
   "source": [
    "# c. Calculate the maximum Sharpe Ratio Portfolio\n",
    "i. (HINT: Because you have 2 Assets, you can quickly sweep the potential weights to find maximum values instead of using an optimizer. Weight_Stock = 1- Weight_Option)"
   ],
   "id": "5152fd560684070b"
  },
  {
   "metadata": {
    "ExecuteTime": {
     "end_time": "2024-12-12T05:40:09.837146Z",
     "start_time": "2024-12-12T05:40:08.746242Z"
    }
   },
   "cell_type": "code",
   "source": [
    "# 定义权重范围\n",
    "weights_stock = np.linspace(-1, 1, 500)  # 股票权重\n",
    "weights_option = 1 - weights_stock       # 期权权重\n",
    "\n",
    "# 扩展权重数组的形状，使其与收益数组形状一致\n",
    "weights_stock = weights_stock.reshape(-1, 1)  # 变为 (500, 1)\n",
    "weights_option = weights_option.reshape(-1, 1)  # 变为 (500, 1)\n",
    "\n",
    "# 计算投资组合收益\n",
    "portfolio_returns = weights_stock * stock_returns_held + weights_option * put_returns_held  # 形状为 (500, 100000)\n",
    "\n",
    "# 计算投资组合的平均收益和波动率\n",
    "portfolio_mean = np.mean(portfolio_returns, axis=1)  # 对每个权重组合计算平均收益\n",
    "portfolio_volatility = np.std(portfolio_returns, axis=1)  # 对每个权重组合计算波动率\n",
    "\n",
    "# 计算 Sharpe 比率\n",
    "sharpe_ratios = (portfolio_mean - risk_free_rate) / portfolio_volatility\n",
    "\n",
    "# 找到最大 Sharpe 比率的权重\n",
    "max_sharpe_idx = np.argmax(sharpe_ratios)\n",
    "max_sharpe_weights = (weights_stock[max_sharpe_idx][0], weights_option[max_sharpe_idx][0])\n",
    "\n",
    "print(f\"最大 Sharpe 比率组合: 股票权重 = {max_sharpe_weights[0]:.4f}, 期权权重 = {max_sharpe_weights[1]:.4f}\")\n",
    "print(f\"最大 Sharpe 比率: {sharpe_ratios[max_sharpe_idx]:.4f}\")\n"
   ],
   "id": "a6b37a36f0e7d280",
   "outputs": [
    {
     "name": "stdout",
     "output_type": "stream",
     "text": [
      "最大 Sharpe 比率组合: 股票权重 = 1.0000, 期权权重 = 0.0000\n",
      "最大 Sharpe 比率: 0.4833\n"
     ]
    }
   ],
   "execution_count": 13
  },
  {
   "metadata": {},
   "cell_type": "markdown",
   "source": "# d. Change the Sharpe Ratio formula to use the ES (alpha=0.01) from your simulated values instead of the portfolio volatility. What weights maximize this reward/risk ratio?",
   "id": "41e4133aaf764a7c"
  },
  {
   "metadata": {
    "ExecuteTime": {
     "end_time": "2024-12-12T05:40:11.420716Z",
     "start_time": "2024-12-12T05:40:10.978086Z"
    }
   },
   "cell_type": "code",
   "source": [
    "# 定义 ES 奖励/风险比率\n",
    "es_ratios = []\n",
    "\n",
    "for w_stock, w_option in zip(weights_stock.flatten(), weights_option.flatten()):  # 展平权重数组\n",
    "    portfolio_returns = w_stock * stock_returns_held + w_option * put_returns_held\n",
    "    es = calculate_es(portfolio_returns, alpha)\n",
    "    reward = np.mean(portfolio_returns)\n",
    "    es_ratios.append(reward / -es)  # 奖励/风险比率\n",
    "\n",
    "# 找到最大 ES 奖励/风险比率的权重\n",
    "max_es_idx = np.argmax(es_ratios)\n",
    "max_es_weights = (weights_stock[max_es_idx][0], weights_option[max_es_idx][0])\n",
    "\n",
    "print(f\"最大 ES 奖励/风险比率组合: 股票权重 = {max_es_weights[0]:.4f}, 期权权重 = {max_es_weights[1]:.4f}\")\n",
    "print(f\"最大 ES 奖励/风险比率: {es_ratios[max_es_idx]:.4f}\")\n"
   ],
   "id": "f0ec049f045cec18",
   "outputs": [
    {
     "name": "stdout",
     "output_type": "stream",
     "text": [
      "最大 ES 奖励/风险比率组合: 股票权重 = 0.9078, 期权权重 = 0.0922\n",
      "最大 ES 奖励/风险比率: 0.8951\n"
     ]
    }
   ],
   "execution_count": 14
  },
  {
   "metadata": {},
   "cell_type": "markdown",
   "source": "# e. Why are these values so different?",
   "id": "479353bdc7f7216"
  },
  {
   "metadata": {
    "ExecuteTime": {
     "end_time": "2024-12-12T05:40:12.701882Z",
     "start_time": "2024-12-12T05:40:12.698850Z"
    }
   },
   "cell_type": "code",
   "source": [
    "# 打印两种方法的最佳权重结果\n",
    "print(f\"最大 Sharpe 比率组合权重: 股票 {max_sharpe_weights[0]:.4f}, 期权 {max_sharpe_weights[1]:.4f}\")\n",
    "print(f\"最大 ES 奖励/风险比率组合权重: 股票 {max_es_weights[0]:.4f}, 期权 {max_es_weights[1]:.4f}\")\n",
    "\n",
    "# 差异分析\n",
    "print(\"两种方法的差异是由于 Sharpe 比率使用波动率作为风险指标，而 ES 奖励/风险比率更关注尾部风险，\")\n",
    "print(\"因此在极端市场情况下，ES 方法可能更适合评估风险。\")\n"
   ],
   "id": "5279b34f1addaf0d",
   "outputs": [
    {
     "name": "stdout",
     "output_type": "stream",
     "text": [
      "最大 Sharpe 比率组合权重: 股票 1.0000, 期权 0.0000\n",
      "最大 ES 奖励/风险比率组合权重: 股票 0.9078, 期权 0.0922\n",
      "两种方法的差异是由于 Sharpe 比率使用波动率作为风险指标，而 ES 奖励/风险比率更关注尾部风险，\n",
      "因此在极端市场情况下，ES 方法可能更适合评估风险。\n"
     ]
    }
   ],
   "execution_count": 15
  },
  {
   "metadata": {},
   "cell_type": "code",
   "outputs": [],
   "execution_count": null,
   "source": "",
   "id": "17f6a0cc7785fe9f"
  }
 ],
 "metadata": {
  "kernelspec": {
   "display_name": "Python 3",
   "language": "python",
   "name": "python3"
  },
  "language_info": {
   "codemirror_mode": {
    "name": "ipython",
    "version": 2
   },
   "file_extension": ".py",
   "mimetype": "text/x-python",
   "name": "python",
   "nbconvert_exporter": "python",
   "pygments_lexer": "ipython2",
   "version": "2.7.6"
  }
 },
 "nbformat": 4,
 "nbformat_minor": 5
}
