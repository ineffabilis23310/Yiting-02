{
 "cells": [
  {
   "metadata": {
    "ExecuteTime": {
     "end_time": "2024-12-12T05:23:13.538318Z",
     "start_time": "2024-12-12T05:23:13.521917Z"
    }
   },
   "cell_type": "code",
   "source": [
    "import pandas as pd\n",
    "import numpy as np\n",
    "\n",
    "# 加载 \"problem4.csv\" 数据\n",
    "data = pd.read_csv('problem4.csv')\n",
    "# 显示数据的前几行，确认加载是否正确\n",
    "print(data.head())"
   ],
   "id": "e9b2371f807c8e3b",
   "outputs": [
    {
     "name": "stdout",
     "output_type": "stream",
     "text": [
      "          A         B         C\n",
      "0  0.004782  0.021225  0.125311\n",
      "1  0.006932 -0.002660  0.039072\n",
      "2 -0.005504 -0.005403  0.046670\n",
      "3 -0.013573 -0.017365  0.078572\n",
      "4 -0.010876 -0.005402 -0.025213\n"
     ]
    }
   ],
   "execution_count": 3
  },
  {
   "metadata": {},
   "cell_type": "markdown",
   "source": [
    "a. Calculate a covariance matrix from the returns using an exponential weighting factor of\n",
    "0.94"
   ],
   "id": "e6180a573c4c02d6"
  },
  {
   "metadata": {
    "ExecuteTime": {
     "end_time": "2024-12-12T05:23:14.743553Z",
     "start_time": "2024-12-12T05:23:14.738644Z"
    }
   },
   "cell_type": "code",
   "source": [
    "# 4a. 计算协方差矩阵\n",
    "\n",
    "# 定义指数加权因子\n",
    "lambda_ewma = 0.94\n",
    "\n",
    "# 计算收益矩阵的列数\n",
    "returns = data.values\n",
    "num_assets = returns.shape[1]\n",
    "\n",
    "# 初始化加权协方差矩阵\n",
    "cov_matrix = np.zeros((num_assets, num_assets))\n",
    "\n",
    "# 计算指数加权协方差矩阵\n",
    "for i in range(num_assets):\n",
    "    for j in range(num_assets):\n",
    "        cov_matrix[i, j] = np.sum(\n",
    "            (1 - lambda_ewma) * lambda_ewma**np.arange(len(returns)-1, -1, -1) *\n",
    "            (returns[:, i] - np.mean(returns[:, i])) *\n",
    "            (returns[:, j] - np.mean(returns[:, j]))\n",
    "        )\n",
    "\n",
    "print(\"指数加权协方差矩阵:\")\n",
    "print(cov_matrix)\n"
   ],
   "id": "d5491242355ae3c0",
   "outputs": [
    {
     "name": "stdout",
     "output_type": "stream",
     "text": [
      "指数加权协方差矩阵:\n",
      "[[ 1.03874913e-04  1.11695277e-04 -6.42311019e-05]\n",
      " [ 1.11695277e-04  3.78311260e-04  1.16468680e-04]\n",
      " [-6.42311019e-05  1.16468680e-04  3.23400107e-03]]\n"
     ]
    }
   ],
   "execution_count": 4
  },
  {
   "metadata": {},
   "cell_type": "markdown",
   "source": "b. Calculate the ex-ante risk contribution of each asset as a percent of the total. (",
   "id": "b3c654a942cba6c8"
  },
  {
   "metadata": {
    "ExecuteTime": {
     "end_time": "2024-12-12T05:23:22.765872Z",
     "start_time": "2024-12-12T05:23:22.757456Z"
    }
   },
   "cell_type": "code",
   "source": [
    "# 4b. 计算风险贡献百分比\n",
    "\n",
    "# 投资组合权重\n",
    "weights = np.array([0.30, 0.45, 0.25])\n",
    "\n",
    "# 组合总风险\n",
    "portfolio_variance = np.dot(weights.T, np.dot(cov_matrix, weights))\n",
    "portfolio_std = np.sqrt(portfolio_variance)\n",
    "\n",
    "# 计算每个资产的边际风险贡献\n",
    "marginal_risk_contribution = np.dot(cov_matrix, weights)\n",
    "\n",
    "# 每个资产的风险贡献\n",
    "risk_contribution = weights * marginal_risk_contribution\n",
    "\n",
    "# 每个资产的风险贡献占比\n",
    "risk_contribution_percent = risk_contribution / portfolio_variance * 100\n",
    "\n",
    "print(\"每个资产的风险贡献占比 (%):\")\n",
    "print(risk_contribution_percent)\n"
   ],
   "id": "357847cc900f8920",
   "outputs": [
    {
     "name": "stdout",
     "output_type": "stream",
     "text": [
      "每个资产的风险贡献占比 (%):\n",
      "[ 5.85712834 31.29820168 62.84466999]\n"
     ]
    }
   ],
   "execution_count": 5
  },
  {
   "metadata": {},
   "cell_type": "markdown",
   "source": [
    "c. Assuming the returns are daily, the expected returns are the mean (unweighted) of the\n",
    "historical series, and the risk free rate is 5.25% annually (365 days), what is the daily\n",
    "Sharpe Ratio of this portfolio?"
   ],
   "id": "65eddf14abf33e73"
  },
  {
   "metadata": {
    "ExecuteTime": {
     "end_time": "2024-12-12T05:23:28.174280Z",
     "start_time": "2024-12-12T05:23:28.167446Z"
    }
   },
   "cell_type": "code",
   "source": [
    "# 4c. 计算夏普比率\n",
    "\n",
    "# 计算每日的组合预期收益\n",
    "daily_expected_returns = np.mean(returns, axis=0)\n",
    "portfolio_expected_return = np.dot(weights, daily_expected_returns)\n",
    "\n",
    "# 风险自由利率（每日）\n",
    "risk_free_rate_daily = 0.0525 / 365\n",
    "\n",
    "# 夏普比率\n",
    "sharpe_ratio = (portfolio_expected_return - risk_free_rate_daily) / portfolio_std\n",
    "\n",
    "print(f\"组合的每日夏普比率: {sharpe_ratio}\")\n"
   ],
   "id": "ee4be060270a92b5",
   "outputs": [
    {
     "name": "stdout",
     "output_type": "stream",
     "text": [
      "组合的每日夏普比率: 0.1996515668882902\n"
     ]
    }
   ],
   "execution_count": 6
  },
  {
   "metadata": {},
   "cell_type": "markdown",
   "source": "d. Calculate the maximum Sharpe Ratio portfolio weights restricting weights to be positive",
   "id": "14499fadb2403acd"
  },
  {
   "metadata": {
    "ExecuteTime": {
     "end_time": "2024-12-12T05:23:34.822798Z",
     "start_time": "2024-12-12T05:23:34.513764Z"
    }
   },
   "cell_type": "code",
   "source": [
    "from scipy.optimize import minimize\n",
    "\n",
    "# 4d. 计算最大夏普比率的权重\n",
    "\n",
    "# 定义目标函数：负的夏普比率\n",
    "def neg_sharpe(weights, returns, risk_free_rate):\n",
    "    portfolio_return = np.dot(weights, np.mean(returns, axis=0))\n",
    "    portfolio_volatility = np.sqrt(np.dot(weights.T, np.dot(cov_matrix, weights)))\n",
    "    sharpe_ratio = (portfolio_return - risk_free_rate) / portfolio_volatility\n",
    "    return -sharpe_ratio\n",
    "\n",
    "# 约束条件：权重之和为1，且每个权重为正\n",
    "constraints = ({'type': 'eq', 'fun': lambda x: np.sum(x) - 1})\n",
    "bounds = [(0, 1) for _ in range(num_assets)]\n",
    "\n",
    "# 初始猜测权重\n",
    "initial_weights = np.array([1 / num_assets] * num_assets)\n",
    "\n",
    "# 优化\n",
    "result = minimize(\n",
    "    neg_sharpe,\n",
    "    initial_weights,\n",
    "    args=(returns, risk_free_rate_daily),\n",
    "    method='SLSQP',\n",
    "    bounds=bounds,\n",
    "    constraints=constraints\n",
    ")\n",
    "\n",
    "max_sharpe_weights = result.x\n",
    "\n",
    "print(\"最大夏普比率的权重:\")\n",
    "print(max_sharpe_weights)\n"
   ],
   "id": "9b76034bdc0b95e1",
   "outputs": [
    {
     "name": "stdout",
     "output_type": "stream",
     "text": [
      "最大夏普比率的权重:\n",
      "[8.12129368e-17 9.64850038e-01 3.51499618e-02]\n"
     ]
    }
   ],
   "execution_count": 7
  },
  {
   "metadata": {},
   "cell_type": "code",
   "outputs": [],
   "execution_count": null,
   "source": "",
   "id": "4a961e1f7a833868"
  }
 ],
 "metadata": {
  "kernelspec": {
   "display_name": "Python 3",
   "language": "python",
   "name": "python3"
  },
  "language_info": {
   "codemirror_mode": {
    "name": "ipython",
    "version": 2
   },
   "file_extension": ".py",
   "mimetype": "text/x-python",
   "name": "python",
   "nbconvert_exporter": "python",
   "pygments_lexer": "ipython2",
   "version": "2.7.6"
  }
 },
 "nbformat": 4,
 "nbformat_minor": 5
}
