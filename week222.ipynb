{
 "cells": [
  {
   "cell_type": "code",
   "id": "initial_id",
   "metadata": {
    "collapsed": true,
    "ExecuteTime": {
     "end_time": "2024-12-13T00:12:47.265498Z",
     "start_time": "2024-12-13T00:12:47.243912Z"
    }
   },
   "source": [
    "import pandas as pd\n",
    "from scipy.stats import skew, kurtosis\n",
    "\n",
    "# 读取数据\n",
    "data = pd.read_csv('problem2.csv')\n",
    "\n",
    "# 确认数据结构\n",
    "print(data.head())\n",
    "returns = data['X']"
   ],
   "outputs": [
    {
     "name": "stdout",
     "output_type": "stream",
     "text": [
      "          X\n",
      "0 -0.152793\n",
      "1  0.158572\n",
      "2 -0.087251\n",
      "3 -0.022335\n",
      "4  0.123212\n"
     ]
    }
   ],
   "execution_count": 3
  },
  {
   "metadata": {},
   "cell_type": "markdown",
   "source": "# a. Calculate the Mean, Variance, Skewness and Kurtosis of the data ",
   "id": "c30cbacf85e97e86"
  },
  {
   "metadata": {
    "ExecuteTime": {
     "end_time": "2024-12-13T00:12:49.251565Z",
     "start_time": "2024-12-13T00:12:49.243343Z"
    }
   },
   "cell_type": "code",
   "source": [
    "\n",
    "# 计算统计指标\n",
    "mean_value = returns.mean()  # 均值\n",
    "variance_value = returns.var()  # 方差\n",
    "skewness_value = skew(returns)  # 偏度\n",
    "kurtosis_value = kurtosis(returns)  # 峰度（Fisher 修正，减3）\n",
    "\n",
    "print(f\"均值: {mean_value}\")\n",
    "print(f\"方差: {variance_value}\")\n",
    "print(f\"偏度: {skewness_value}\")\n",
    "print(f\"峰度: {kurtosis_value}\")\n"
   ],
   "id": "40e97caf94c45842",
   "outputs": [
    {
     "name": "stdout",
     "output_type": "stream",
     "text": [
      "均值: 0.045579713689334486\n",
      "方差: 0.013038048101259752\n",
      "偏度: 0.1965402908480166\n",
      "峰度: 1.059553675772511\n"
     ]
    }
   ],
   "execution_count": 4
  },
  {
   "metadata": {},
   "cell_type": "markdown",
   "source": "# b. Given a choice between a normal distribution and a t-distribution, which one would you choose to model the data and why based on part a alone",
   "id": "be3d15598d1ec9db"
  },
  {
   "metadata": {
    "ExecuteTime": {
     "end_time": "2024-12-13T00:13:19.371763Z",
     "start_time": "2024-12-13T00:13:19.364742Z"
    }
   },
   "cell_type": "code",
   "source": [
    "# 根据 2a 的结果选择分布\n",
    "if abs(skewness_value) < 0.5 and abs(kurtosis_value) < 3:\n",
    "    print(\"根据偏度和峰度，数据更符合正态分布。\")\n",
    "else:\n",
    "    print(\"根据偏度和峰度，数据可能更符合 t 分布，因为数据可能存在非对称性或重尾现象。\")\n"
   ],
   "id": "1aac4047d159ee5b",
   "outputs": [
    {
     "name": "stdout",
     "output_type": "stream",
     "text": [
      "根据偏度和峰度，数据更符合正态分布。\n"
     ]
    }
   ],
   "execution_count": 5
  },
  {
   "metadata": {},
   "cell_type": "markdown",
   "source": "# c. Fit both distributions and prove or disprove your choice in b.",
   "id": "9741d70b715ddb67"
  },
  {
   "metadata": {
    "ExecuteTime": {
     "end_time": "2024-12-13T00:13:26.419702Z",
     "start_time": "2024-12-13T00:13:26.360609Z"
    }
   },
   "cell_type": "code",
   "source": [
    "import numpy as np\n",
    "from scipy.stats import norm, t\n",
    "\n",
    "# 拟合正态分布\n",
    "mu_norm, sigma_norm = norm.fit(returns)\n",
    "\n",
    "# 拟合 t 分布\n",
    "df_t, loc_t, scale_t = t.fit(returns)\n",
    "\n",
    "# 计算负对数似然（NLL）以比较分布的拟合优度\n",
    "log_likelihood_norm = np.sum(norm.logpdf(returns, mu_norm, sigma_norm))  # 正态分布的对数似然\n",
    "log_likelihood_t = np.sum(t.logpdf(returns, df_t, loc_t, scale_t))  # t 分布的对数似然\n",
    "\n",
    "print(f\"正态分布拟合参数: 均值 = {mu_norm}, 标准差 = {sigma_norm}\")\n",
    "print(f\"t 分布拟合参数: 自由度 = {df_t}, 均值 = {loc_t}, 标准差 = {scale_t}\")\n",
    "print(f\"正态分布的对数似然: {log_likelihood_norm}\")\n",
    "print(f\"t 分布的对数似然: {log_likelihood_t}\")\n",
    "\n",
    "# 比较对数似然，选择拟合更好的分布\n",
    "if log_likelihood_norm > log_likelihood_t:\n",
    "    print(\"正态分布拟合更好。\")\n",
    "else:\n",
    "    print(\"t 分布拟合更好。\")\n"
   ],
   "id": "539768fc31706284",
   "outputs": [
    {
     "name": "stdout",
     "output_type": "stream",
     "text": [
      "正态分布拟合参数: 均值 = 0.045579713689334486, 标准差 = 0.1141271661488118\n",
      "t 分布拟合参数: 自由度 = 9.963553357171701, 均值 = 0.04481659874584619, 标准差 = 0.10198078858008325\n",
      "正态分布的对数似然: 751.5034265490369\n",
      "t 分布的对数似然: 761.3265260031494\n",
      "t 分布拟合更好。\n"
     ]
    }
   ],
   "execution_count": 6
  },
  {
   "metadata": {},
   "cell_type": "code",
   "outputs": [],
   "execution_count": null,
   "source": "",
   "id": "df8a42eea0343771"
  }
 ],
 "metadata": {
  "kernelspec": {
   "display_name": "Python 3",
   "language": "python",
   "name": "python3"
  },
  "language_info": {
   "codemirror_mode": {
    "name": "ipython",
    "version": 2
   },
   "file_extension": ".py",
   "mimetype": "text/x-python",
   "name": "python",
   "nbconvert_exporter": "python",
   "pygments_lexer": "ipython2",
   "version": "2.7.6"
  }
 },
 "nbformat": 4,
 "nbformat_minor": 5
}
