{
 "cells": [
  {
   "cell_type": "code",
   "id": "initial_id",
   "metadata": {
    "collapsed": true,
    "ExecuteTime": {
     "end_time": "2024-12-13T00:26:54.068180Z",
     "start_time": "2024-12-13T00:26:53.746176Z"
    }
   },
   "source": [
    "import pandas as pd\n",
    "import numpy as np\n",
    "\n",
    "# 加载数据\n",
    "data = pd.read_csv('problem5.csv')\n",
    "\n",
    "# 检查数据格式\n",
    "print(data.head())\n",
    "\n",
    "# 初始投资组合权重\n",
    "initial_weights = np.array([0.3, 0.2, 0.5])\n",
    "\n",
    "# 转换数据为 NumPy 数组\n",
    "returns = data.values  # 每列代表一个资产的每日收益"
   ],
   "outputs": [
    {
     "name": "stdout",
     "output_type": "stream",
     "text": [
      "         x1        x2        x3\n",
      "0  0.027468 -0.026885 -0.009229\n",
      "1 -0.040896  0.068180  0.072992\n",
      "2  0.019978  0.021086  0.014608\n",
      "3  0.025690 -0.037519 -0.031387\n",
      "4 -0.029897  0.008592 -0.013029\n"
     ]
    }
   ],
   "execution_count": 2
  },
  {
   "metadata": {},
   "cell_type": "markdown",
   "source": "",
   "id": "7bef12da80ff4e8b"
  },
  {
   "metadata": {},
   "cell_type": "markdown",
   "source": "# a. Calculate the ex-post return contribution of each asset.",
   "id": "1b496653842ea039"
  },
  {
   "metadata": {
    "ExecuteTime": {
     "end_time": "2024-12-13T00:27:05.673908Z",
     "start_time": "2024-12-13T00:27:05.659948Z"
    }
   },
   "cell_type": "code",
   "source": [
    "# 计算每日投资组合收益\n",
    "portfolio_returns = np.dot(returns, initial_weights)\n",
    "\n",
    "# 计算30天的总收益\n",
    "portfolio_total_return = np.prod(1 + portfolio_returns) - 1\n",
    "\n",
    "# 计算每个资产的总回报\n",
    "asset_total_returns = np.prod(1 + returns, axis=0) - 1\n",
    "\n",
    "# 每个资产的贡献比例\n",
    "return_contribution = initial_weights * asset_total_returns / portfolio_total_return\n",
    "\n",
    "print(\"每个资产的实际收益贡献 (Ex-Post Return Contribution):\")\n",
    "print(return_contribution)\n"
   ],
   "id": "3d613de6ce1bcff6",
   "outputs": [
    {
     "name": "stdout",
     "output_type": "stream",
     "text": [
      "每个资产的实际收益贡献 (Ex-Post Return Contribution):\n",
      "[-1.04973455 -0.05058776  2.38177542]\n"
     ]
    }
   ],
   "execution_count": 3
  },
  {
   "metadata": {},
   "cell_type": "markdown",
   "source": "# b. Calculate the ex-post risk contribution of each asset. ",
   "id": "28cde50ecdd9c8e8"
  },
  {
   "metadata": {
    "ExecuteTime": {
     "end_time": "2024-12-13T00:27:22.360044Z",
     "start_time": "2024-12-13T00:27:22.353914Z"
    }
   },
   "cell_type": "code",
   "source": [
    "# 计算投资组合协方差矩阵\n",
    "cov_matrix = np.cov(returns.T)\n",
    "\n",
    "# 投资组合的波动率\n",
    "portfolio_volatility = np.sqrt(np.dot(initial_weights.T, np.dot(cov_matrix, initial_weights)))\n",
    "\n",
    "# 计算边际风险贡献\n",
    "marginal_risk_contribution = np.dot(cov_matrix, initial_weights) / portfolio_volatility\n",
    "\n",
    "# 每个资产的风险贡献\n",
    "risk_contribution = initial_weights * marginal_risk_contribution\n",
    "\n",
    "# 转化为占总风险的比例\n",
    "risk_contribution_percent = risk_contribution / portfolio_volatility * 100\n",
    "\n",
    "print(\"每个资产的实际风险贡献 (Ex-Post Risk Contribution):\")\n",
    "print(risk_contribution_percent)"
   ],
   "id": "21a79d691cf4026a",
   "outputs": [
    {
     "name": "stdout",
     "output_type": "stream",
     "text": [
      "每个资产的实际风险贡献 (Ex-Post Risk Contribution):\n",
      "[ 0.84750731 21.45637643 77.69611627]\n"
     ]
    }
   ],
   "execution_count": 4
  },
  {
   "metadata": {},
   "cell_type": "code",
   "outputs": [],
   "execution_count": null,
   "source": "",
   "id": "726dccba40535f1b"
  }
 ],
 "metadata": {
  "kernelspec": {
   "display_name": "Python 3",
   "language": "python",
   "name": "python3"
  },
  "language_info": {
   "codemirror_mode": {
    "name": "ipython",
    "version": 2
   },
   "file_extension": ".py",
   "mimetype": "text/x-python",
   "name": "python",
   "nbconvert_exporter": "python",
   "pygments_lexer": "ipython2",
   "version": "2.7.6"
  }
 },
 "nbformat": 4,
 "nbformat_minor": 5
}
