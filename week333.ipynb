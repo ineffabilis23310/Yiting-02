{
 "cells": [
  {
   "metadata": {
    "ExecuteTime": {
     "end_time": "2024-12-13T00:18:28.188379Z",
     "start_time": "2024-12-13T00:18:27.878537Z"
    }
   },
   "cell_type": "code",
   "source": [
    "import pandas as pd\n",
    "import numpy as np\n",
    "\n",
    "data = pd.read_csv('problem3.csv')"
   ],
   "id": "f54cb662d6543b17",
   "outputs": [],
   "execution_count": 1
  },
  {
   "metadata": {},
   "cell_type": "markdown",
   "source": "# a. Calculate the pairwise covariance matrix of the data.",
   "id": "bf4a29892457500c"
  },
  {
   "metadata": {
    "ExecuteTime": {
     "end_time": "2024-12-13T00:18:29.022230Z",
     "start_time": "2024-12-13T00:18:29.016610Z"
    }
   },
   "cell_type": "code",
   "source": [
    "# 计算协方差矩阵\n",
    "cov_matrix = data.cov()\n",
    "\n",
    "# 打印协方差矩阵\n",
    "print(\"成对协方差矩阵:\")\n",
    "print(cov_matrix)"
   ],
   "id": "d13fbb7097c3e376",
   "outputs": [
    {
     "name": "stdout",
     "output_type": "stream",
     "text": [
      "成对协方差矩阵:\n",
      "          x1        x2        x3        x4        x5\n",
      "x1  1.470484  1.454214  0.877269  1.903226  1.444361\n",
      "x2  1.454214  1.252078  0.539548  1.621918  1.237877\n",
      "x3  0.877269  0.539548  1.272425  1.171959  1.091912\n",
      "x4  1.903226  1.621918  1.171959  1.814469  1.589729\n",
      "x5  1.444361  1.237877  1.091912  1.589729  1.396186\n"
     ]
    }
   ],
   "execution_count": 2
  },
  {
   "metadata": {},
   "cell_type": "markdown",
   "source": "# b. Is the matrix at least positive semi-definite? Why? ",
   "id": "c7fcb93054c9c312"
  },
  {
   "metadata": {
    "ExecuteTime": {
     "end_time": "2024-12-13T00:18:40.355891Z",
     "start_time": "2024-12-13T00:18:40.339924Z"
    }
   },
   "cell_type": "code",
   "source": [
    "# 定义判断正半定的函数\n",
    "def is_positive_semi_definite(matrix):\n",
    "    \"\"\"\n",
    "    判断矩阵是否为正半定\n",
    "    \"\"\"\n",
    "    # 检查所有特征值是否非负\n",
    "    eigenvalues = np.linalg.eigvals(matrix)\n",
    "    return np.all(eigenvalues >= 0), eigenvalues\n",
    "\n",
    "# 检查协方差矩阵的正半定性\n",
    "is_psd, eigenvalues = is_positive_semi_definite(cov_matrix)\n",
    "\n",
    "if is_psd:\n",
    "    print(\"协方差矩阵是正半定的，因为所有特征值均非负。\")\n",
    "else:\n",
    "    print(\"协方差矩阵不是正半定的，因为存在负特征值。\")\n",
    "    print(f\"特征值: {eigenvalues}\")\n"
   ],
   "id": "67dbcc0d76cc5781",
   "outputs": [
    {
     "name": "stdout",
     "output_type": "stream",
     "text": [
      "协方差矩阵不是正半定的，因为存在负特征值。\n",
      "特征值: [ 6.78670573  0.83443367 -0.31024286  0.02797828 -0.13323183]\n"
     ]
    }
   ],
   "execution_count": 3
  },
  {
   "metadata": {},
   "cell_type": "markdown",
   "source": "# c. If not, find the nearest positive semi-definite matrix using Higham’s method as defined in the notes.",
   "id": "9e19cc0084e73ba5"
  },
  {
   "metadata": {
    "ExecuteTime": {
     "end_time": "2024-12-13T00:19:05.127579Z",
     "start_time": "2024-12-13T00:19:05.091181Z"
    }
   },
   "cell_type": "code",
   "source": [
    "def nearest_positive_semi_definite(matrix, max_iter=100, tolerance=1e-8):\n",
    "    \"\"\"\n",
    "    使用 Higham 方法找到最近的正半定矩阵\n",
    "    \"\"\"\n",
    "    # 初始化\n",
    "    n = matrix.shape[0]\n",
    "    Y = matrix\n",
    "    delta_S = np.zeros((n, n))\n",
    "    for k in range(max_iter):\n",
    "        # 对称化\n",
    "        R = Y - delta_S\n",
    "        X = (R + R.T) / 2\n",
    "        \n",
    "        # 特征值分解\n",
    "        eigval, eigvec = np.linalg.eigh(X)\n",
    "        eigval = np.maximum(eigval, 0)  # 将负特征值替换为 0\n",
    "        X_psd = eigvec @ np.diag(eigval) @ eigvec.T\n",
    "        \n",
    "        # 更新调整量\n",
    "        delta_S = X_psd - R\n",
    "        Y = X_psd\n",
    "        \n",
    "        # 检查收敛\n",
    "        if np.linalg.norm(delta_S, ord='fro') < tolerance:\n",
    "            break\n",
    "    return Y\n",
    "\n",
    "# 如果矩阵不是正半定的，找到最近的正半定矩阵\n",
    "if not is_psd:\n",
    "    nearest_psd_matrix = nearest_positive_semi_definite(cov_matrix)\n",
    "    print(\"最近的正半定矩阵:\")\n",
    "    print(nearest_psd_matrix)\n",
    "    \n",
    "    # 验证新的矩阵是否为正半定\n",
    "    is_psd_new, eigenvalues_new = is_positive_semi_definite(nearest_psd_matrix)\n",
    "    print(\"新的矩阵是否为正半定:\", is_psd_new)\n",
    "    print(f\"新的矩阵特征值: {eigenvalues_new}\")\n"
   ],
   "id": "44be1de9f76d9a1f",
   "outputs": [
    {
     "name": "stdout",
     "output_type": "stream",
     "text": [
      "最近的正半定矩阵:\n",
      "[[1.61513295 1.44196041 0.89714421 1.78042572 1.43379434]\n",
      " [1.44196041 1.34696791 0.58508635 1.55455193 1.21140918]\n",
      " [0.89714421 0.58508635 1.29891578 1.11595578 1.07669234]\n",
      " [1.78042572 1.55455193 1.11595578 1.98316488 1.62137332]\n",
      " [1.43379434 1.21140918 1.07669234 1.62137332 1.40493616]]\n",
      "新的矩阵是否为正半定: True\n",
      "新的矩阵特征值: [6.78670573e+00+0.0000000e+00j 8.34433668e-01+0.0000000e+00j\n",
      " 2.79782808e-02+0.0000000e+00j 4.55180126e-17+1.7281321e-16j\n",
      " 4.55180126e-17-1.7281321e-16j]\n"
     ]
    }
   ],
   "execution_count": 4
  },
  {
   "metadata": {},
   "cell_type": "code",
   "outputs": [],
   "execution_count": null,
   "source": "",
   "id": "5e718ee23d43e63"
  }
 ],
 "metadata": {
  "kernelspec": {
   "display_name": "Python 3",
   "language": "python",
   "name": "python3"
  },
  "language_info": {
   "codemirror_mode": {
    "name": "ipython",
    "version": 2
   },
   "file_extension": ".py",
   "mimetype": "text/x-python",
   "name": "python",
   "nbconvert_exporter": "python",
   "pygments_lexer": "ipython2",
   "version": "2.7.6"
  }
 },
 "nbformat": 4,
 "nbformat_minor": 5
}
