{
 "cells": [
  {
   "cell_type": "code",
   "id": "initial_id",
   "metadata": {
    "collapsed": true,
    "ExecuteTime": {
     "end_time": "2024-12-12T05:31:38.425865Z",
     "start_time": "2024-12-12T05:31:38.417688Z"
    }
   },
   "source": [
    "import pandas as pd\n",
    "import numpy as np\n",
    "from scipy.stats import t, norm\n",
    "\n",
    "# 加载数据\n",
    "data = pd.read_csv('problem5.csv')\n",
    "# 检查数据结构\n",
    "print(data.head())\n"
   ],
   "outputs": [
    {
     "name": "stdout",
     "output_type": "stream",
     "text": [
      "            A          B           C          D\n",
      "0   99.748060  42.659947  155.181358  66.545111\n",
      "1   99.452137  41.392601  146.732762  63.684575\n",
      "2  102.867505  42.900677  146.417105  64.468899\n",
      "3  105.524561  42.651742  146.989262  61.148250\n",
      "4  105.305369  42.904467  145.434970  60.744525\n"
     ]
    }
   ],
   "execution_count": 5
  },
  {
   "metadata": {},
   "cell_type": "markdown",
   "source": "a. Calculate ES (5%) for each asset",
   "id": "38d932d7edd8e70c"
  },
  {
   "metadata": {
    "ExecuteTime": {
     "end_time": "2024-12-12T05:31:39.532030Z",
     "start_time": "2024-12-12T05:31:39.391702Z"
    }
   },
   "cell_type": "code",
   "source": [
    "# 5a. 计算每个资产的 5% 条件风险值 (ES)\n",
    "\n",
    "def fit_t_and_calculate_es(asset_returns, confidence_level=0.05):\n",
    "    \"\"\"\n",
    "    拟合广义 t 分布并计算条件风险值 (ES)\n",
    "    \"\"\"\n",
    "    # 拟合广义 t 分布\n",
    "    params = t.fit(asset_returns)\n",
    "    df, loc, scale = params\n",
    "\n",
    "    # 计算 5% VaR\n",
    "    var_5 = t.ppf(confidence_level, df, loc, scale)\n",
    "\n",
    "    # 计算 5% ES\n",
    "    es_5 = t.expect(lambda x: x, args=(df,), loc=loc, scale=scale, lb=-np.inf, ub=var_5) / confidence_level\n",
    "    return es_5\n",
    "\n",
    "# 为每个资产计算 5% ES\n",
    "es_results = {}\n",
    "for column in data.columns:\n",
    "    asset_returns = data[column].values\n",
    "    es_results[column] = fit_t_and_calculate_es(asset_returns)\n",
    "\n",
    "print(\"每个资产的 5% 条件风险值 (ES):\")\n",
    "print(es_results)\n"
   ],
   "id": "a76ee73d6ef1f21b",
   "outputs": [
    {
     "name": "stdout",
     "output_type": "stream",
     "text": [
      "每个资产的 5% 条件风险值 (ES):\n",
      "{'A': np.float64(96.71628249385503), 'B': np.float64(40.367425425591534), 'C': np.float64(79.12153348845283), 'D': np.float64(58.463470484231856)}\n"
     ]
    }
   ],
   "execution_count": 6
  },
  {
   "metadata": {},
   "cell_type": "markdown",
   "source": "b. Calculate ES (5%) for a portfolio of Asset 1 &2 and a portfolio of Asset 3&4",
   "id": "72a02ba75f72f3f5"
  },
  {
   "metadata": {
    "ExecuteTime": {
     "end_time": "2024-12-12T05:31:41.327170Z",
     "start_time": "2024-12-12T05:31:41.171388Z"
    }
   },
   "cell_type": "code",
   "source": [
    "# 5b. 计算组合资产的 5% 条件风险值 (ES)\n",
    "\n",
    "def simulate_gaussian_copula(returns, n_samples=10000):\n",
    "    \"\"\"\n",
    "    模拟高斯 Copula 样本\n",
    "    \"\"\"\n",
    "    # 计算相关性矩阵\n",
    "    corr_matrix = np.corrcoef(returns.T)\n",
    "\n",
    "    # 生成标准正态分布的样本\n",
    "    z = np.random.multivariate_normal(mean=np.zeros(corr_matrix.shape[0]), cov=corr_matrix, size=n_samples)\n",
    "\n",
    "    # 转换为累积概率\n",
    "    u = norm.cdf(z)\n",
    "    return u\n",
    "\n",
    "def calculate_portfolio_es(copula_samples, marginal_distributions, weights, confidence_level=0.05):\n",
    "    \"\"\"\n",
    "    使用高斯 Copula 和边际分布计算组合的条件风险值 (ES)\n",
    "    \"\"\"\n",
    "    # 生成组合收益率\n",
    "    portfolio_returns = np.zeros(copula_samples.shape[0])\n",
    "    for i, marginal in enumerate(marginal_distributions):\n",
    "        # 逆 CDF 将 Copula 样本映射回原始分布\n",
    "        portfolio_returns += weights[i] * t.ppf(copula_samples[:, i], *marginal)\n",
    "    \n",
    "    # 计算组合的 5% VaR\n",
    "    var_5 = np.percentile(portfolio_returns, confidence_level * 100)\n",
    "\n",
    "    # 计算组合的 5% ES\n",
    "    es_5 = portfolio_returns[portfolio_returns <= var_5].mean()\n",
    "    return es_5\n",
    "\n",
    "# 资产 1 和 2 的组合\n",
    "returns_12 = data.iloc[:, [0, 1]].values\n",
    "copula_samples_12 = simulate_gaussian_copula(returns_12)\n",
    "marginal_12 = [t.fit(data.iloc[:, i].values) for i in [0, 1]]\n",
    "weights_12 = [0.5, 0.5]  # 假设等权重\n",
    "es_12 = calculate_portfolio_es(copula_samples_12, marginal_12, weights_12)\n",
    "\n",
    "print(f\"组合 1 (资产 1 和 2) 的 5% 条件风险值 (ES): {es_12}\")\n",
    "\n",
    "# 资产 3 和 4 的组合\n",
    "returns_34 = data.iloc[:, [2, 3]].values\n",
    "copula_samples_34 = simulate_gaussian_copula(returns_34)\n",
    "marginal_34 = [t.fit(data.iloc[:, i].values) for i in [2, 3]]\n",
    "weights_34 = [0.5, 0.5]  # 假设等权重\n",
    "es_34 = calculate_portfolio_es(copula_samples_34, marginal_34, weights_34)\n",
    "\n",
    "print(f\"组合 2 (资产 3 和 4) 的 5% 条件风险值 (ES): {es_34}\")\n"
   ],
   "id": "f6befcf6569aa69a",
   "outputs": [
    {
     "name": "stdout",
     "output_type": "stream",
     "text": [
      "组合 1 (资产 1 和 2) 的 5% 条件风险值 (ES): 69.23810078640564\n",
      "组合 2 (资产 3 和 4) 的 5% 条件风险值 (ES): 75.10422925297601\n"
     ]
    }
   ],
   "execution_count": 7
  },
  {
   "metadata": {},
   "cell_type": "markdown",
   "source": "c. Calculate ES (5%) for a portfolio of all 4 assets.",
   "id": "c1662665d03f1c76"
  },
  {
   "metadata": {
    "ExecuteTime": {
     "end_time": "2024-12-12T05:31:42.665658Z",
     "start_time": "2024-12-12T05:31:42.542236Z"
    }
   },
   "cell_type": "code",
   "source": [
    "# 5c. 计算包含所有资产的组合的 5% 条件风险值 (ES)\n",
    "\n",
    "# 获取所有资产的返回数据\n",
    "returns_all = data.values\n",
    "copula_samples_all = simulate_gaussian_copula(returns_all)\n",
    "marginal_all = [t.fit(data.iloc[:, i].values) for i in range(data.shape[1])]\n",
    "weights_all = [1 / data.shape[1]] * data.shape[1]  # 假设等权重\n",
    "\n",
    "es_all = calculate_portfolio_es(copula_samples_all, marginal_all, weights_all)\n",
    "\n",
    "print(f\"包含所有资产的组合的 5% 条件风险值 (ES): {es_all}\")\n"
   ],
   "id": "2a08509b29787f8a",
   "outputs": [
    {
     "name": "stdout",
     "output_type": "stream",
     "text": [
      "包含所有资产的组合的 5% 条件风险值 (ES): 76.42802579344664\n"
     ]
    }
   ],
   "execution_count": 8
  },
  {
   "metadata": {
    "ExecuteTime": {
     "end_time": "2024-12-12T05:31:35.902391Z",
     "start_time": "2024-12-12T05:31:35.900632Z"
    }
   },
   "cell_type": "code",
   "source": "",
   "id": "d346e1607cf50d6",
   "outputs": [],
   "execution_count": null
  }
 ],
 "metadata": {
  "kernelspec": {
   "display_name": "Python 3",
   "language": "python",
   "name": "python3"
  },
  "language_info": {
   "codemirror_mode": {
    "name": "ipython",
    "version": 2
   },
   "file_extension": ".py",
   "mimetype": "text/x-python",
   "name": "python",
   "nbconvert_exporter": "python",
   "pygments_lexer": "ipython2",
   "version": "2.7.6"
  }
 },
 "nbformat": 4,
 "nbformat_minor": 5
}
