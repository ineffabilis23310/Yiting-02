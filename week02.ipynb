{
 "cells": [
  {
   "metadata": {
    "ExecuteTime": {
     "end_time": "2024-12-11T07:19:41.175120Z",
     "start_time": "2024-12-11T07:19:41.160276Z"
    }
   },
   "cell_type": "code",
   "source": [
    "import numpy as np\n",
    "from scipy import stats\n",
    "import pandas as pd\n",
    "\n",
    "# 读取CSV文件\n",
    "data = pd.read_csv('problem2.csv')\n",
    "\n",
    "# 提取相关数据列（假设数据在第一行）\n",
    "S = data['Underlying'].iloc[0]  # 标的资产价格\n",
    "K = data['Strike'].iloc[0]  # 执行价格\n",
    "T = data['TTM'].iloc[0] / 255  # 距到期时间（转换为年）\n",
    "r = data['RF'].iloc[0]  # 无风险利率\n",
    "option_price = data['CallPrice'].iloc[0]  # 期权市场价格"
   ],
   "id": "1a3a9a6cdbeec837",
   "outputs": [],
   "execution_count": 24
  },
  {
   "metadata": {},
   "cell_type": "markdown",
   "source": "a. Calculate the implied volatility",
   "id": "bc6ae0fa4e16628c"
  },
  {
   "metadata": {
    "ExecuteTime": {
     "end_time": "2024-12-11T07:19:42.649435Z",
     "start_time": "2024-12-11T07:19:42.639421Z"
    }
   },
   "cell_type": "code",
   "source": [
    "import numpy as np\n",
    "from scipy import stats\n",
    "\n",
    "# Black-Scholes模型的Call期权定价函数\n",
    "def black_scholes_call(S, K, T, r, sigma):\n",
    "    if sigma == 0:  # 如果波动率为零，直接返回一个简单的期权价值（欧式期权）\n",
    "        return max(0, S - K)\n",
    "    \n",
    "    d1 = (np.log(S / K) + (r + 0.5 * sigma**2) * T) / (sigma * np.sqrt(T))\n",
    "    d2 = d1 - sigma * np.sqrt(T)\n",
    "    call_price = S * stats.norm.cdf(d1) - K * np.exp(-r * T) * stats.norm.cdf(d2)\n",
    "    return call_price\n",
    "\n",
    "# 计算隐含波动率的函数（用牛顿法）\n",
    "def implied_volatility(S, K, T, r, market_price, option_type='call'):\n",
    "    def objective_function(sigma):\n",
    "        if option_type == 'call':\n",
    "            return black_scholes_call(S, K, T, r, sigma) - market_price\n",
    "        else:\n",
    "            return black_scholes_put(S, K, T, r, sigma) - market_price\n",
    "\n",
    "    # 初始猜测值\n",
    "    implied_vol = 0.2  \n",
    "    tol = 1e-5  # 容忍误差\n",
    "    max_iter = 100  # 最大迭代次数\n",
    "    \n",
    "    for _ in range(max_iter):\n",
    "        f_val = objective_function(implied_vol)\n",
    "        if abs(f_val) < tol:\n",
    "            return implied_vol\n",
    "        \n",
    "        # 数值微分计算vega，避免出现除零错误\n",
    "        epsilon = 1e-4  # 增大epsilon，避免除零错误\n",
    "        vega = (black_scholes_call(S, K, T, r, implied_vol + epsilon) - black_scholes_call(S, K, T, r, implied_vol - epsilon)) / (2 * epsilon)\n",
    "        \n",
    "        # 防止vega接近零\n",
    "        if vega == 0:\n",
    "            break\n",
    "        \n",
    "        # 使用牛顿法更新隐含波动率\n",
    "        implied_vol -= f_val / vega\n",
    "    \n",
    "    return implied_vol\n",
    "\n",
    "# 计算隐含波动率\n",
    "sigma = implied_volatility(S, K, T, r, market_price, option_type='call')\n",
    "print(f\"隐含波动率: {sigma}\")\n"
   ],
   "id": "b50b0ba1088ac150",
   "outputs": [
    {
     "name": "stdout",
     "output_type": "stream",
     "text": [
      "隐含波动率: 0.16344752534381815\n"
     ]
    }
   ],
   "execution_count": 25
  },
  {
   "metadata": {},
   "cell_type": "markdown",
   "source": "b. Calculate the put price",
   "id": "c95f9f4d4c961796"
  },
  {
   "metadata": {
    "ExecuteTime": {
     "end_time": "2024-12-11T07:19:44.652850Z",
     "start_time": "2024-12-11T07:19:44.647712Z"
    }
   },
   "cell_type": "code",
   "source": [
    "# Black-Scholes模型的Put期权定价函数\n",
    "def black_scholes_put(S, K, T, r, sigma):\n",
    "    d1 = (np.log(S / K) + (r + 0.5 * sigma**2) * T) / (sigma * np.sqrt(T))\n",
    "    d2 = d1 - sigma * np.sqrt(T)\n",
    "    put_price = K * np.exp(-r * T) * stats.norm.cdf(-d2) - S * stats.norm.cdf(-d1)\n",
    "    return put_price\n",
    "\n",
    "# 计算看跌期权价格\n",
    "put_price = black_scholes_put(S, K, T, r, sigma)\n",
    "print(f\"看跌期权价格: {put_price}\")"
   ],
   "id": "d33b572c84e24c7f",
   "outputs": [
    {
     "name": "stdout",
     "output_type": "stream",
     "text": [
      "看跌期权价格: 4.708963573436911\n"
     ]
    }
   ],
   "execution_count": 26
  },
  {
   "metadata": {},
   "cell_type": "markdown",
   "source": "c. Calculate Call Delta",
   "id": "74548a66207b979"
  },
  {
   "metadata": {
    "ExecuteTime": {
     "end_time": "2024-12-11T07:19:46.850517Z",
     "start_time": "2024-12-11T07:19:46.845308Z"
    }
   },
   "cell_type": "code",
   "source": [
    "# 计算看涨期权Delta\n",
    "d1 = (np.log(S / K) + (r + 0.5 * sigma**2) * T) / (sigma * np.sqrt(T))\n",
    "call_delta = stats.norm.cdf(d1)\n",
    "print(f\"看涨期权Delta: {call_delta}\")\n"
   ],
   "id": "464841a70b4a238e",
   "outputs": [
    {
     "name": "stdout",
     "output_type": "stream",
     "text": [
      "看涨期权Delta: 0.5345004518643305\n"
     ]
    }
   ],
   "execution_count": 27
  },
  {
   "metadata": {},
   "cell_type": "markdown",
   "source": "d. Calculate Call Vega",
   "id": "85fe1025e6eb0def"
  },
  {
   "metadata": {
    "ExecuteTime": {
     "end_time": "2024-12-11T07:19:48.349317Z",
     "start_time": "2024-12-11T07:19:48.346746Z"
    }
   },
   "cell_type": "code",
   "source": [
    "# 计算看涨期权Vega\n",
    "call_vega = S * np.sqrt(T) * stats.norm.pdf(d1)\n",
    "print(f\"看涨期权Vega: {call_vega}\")\n"
   ],
   "id": "548ff9f2f13867d0",
   "outputs": [
    {
     "name": "stdout",
     "output_type": "stream",
     "text": [
      "看涨期权Vega: 29.644706981606177\n"
     ]
    }
   ],
   "execution_count": 28
  },
  {
   "metadata": {},
   "cell_type": "markdown",
   "source": "e. Calculate the Put Delta",
   "id": "bc2801d8445b4d62"
  },
  {
   "metadata": {
    "ExecuteTime": {
     "end_time": "2024-12-11T07:19:49.497768Z",
     "start_time": "2024-12-11T07:19:49.493678Z"
    }
   },
   "cell_type": "code",
   "source": [
    "# 计算看跌期权Delta\n",
    "put_delta = stats.norm.cdf(d1) - 1\n",
    "print(f\"看跌期权Delta: {put_delta}\")\n"
   ],
   "id": "dc583278601c3a09",
   "outputs": [
    {
     "name": "stdout",
     "output_type": "stream",
     "text": [
      "看跌期权Delta: -0.4654995481356695\n"
     ]
    }
   ],
   "execution_count": 29
  },
  {
   "metadata": {},
   "cell_type": "markdown",
   "source": "f. Calculate the Put Vega",
   "id": "b448a9d730885a49"
  },
  {
   "metadata": {
    "ExecuteTime": {
     "end_time": "2024-12-11T07:19:50.581659Z",
     "start_time": "2024-12-11T07:19:50.578679Z"
    }
   },
   "cell_type": "code",
   "source": [
    "# 计算看跌期权Vega\n",
    "put_vega = S * np.sqrt(T) * stats.norm.pdf(d1)\n",
    "print(f\"看跌期权Vega: {put_vega}\")\n"
   ],
   "id": "c9c02648552bfc72",
   "outputs": [
    {
     "name": "stdout",
     "output_type": "stream",
     "text": [
      "看跌期权Vega: 29.644706981606177\n"
     ]
    }
   ],
   "execution_count": 30
  },
  {
   "metadata": {},
   "cell_type": "markdown",
   "source": [
    "g. You observe a decrease in implied volatility by 5%. What is the profit or loss of your\n",
    "position?"
   ],
   "id": "1eda036f8386aa64"
  },
  {
   "metadata": {
    "ExecuteTime": {
     "end_time": "2024-12-11T07:19:51.898299Z",
     "start_time": "2024-12-11T07:19:51.893784Z"
    }
   },
   "cell_type": "code",
   "source": [
    "# 假设隐含波动率下降5%，计算损益\n",
    "new_sigma = sigma * 0.95  # 隐含波动率下降5%\n",
    "new_call_price = black_scholes_call(S, K, T, r, new_sigma)\n",
    "new_put_price = black_scholes_put(S, K, T, r, new_sigma)\n",
    "\n",
    "# 计算期权价格的变化（损益）\n",
    "profit_or_loss = (new_call_price - option_price) + (new_put_price - put_price)\n",
    "print(f\"隐含波动率下降5%后的损益: {profit_or_loss}\")\n"
   ],
   "id": "92fd50f622d063ba",
   "outputs": [
    {
     "name": "stdout",
     "output_type": "stream",
     "text": [
      "隐含波动率下降5%后的损益: -4.524574909647804\n"
     ]
    }
   ],
   "execution_count": 31
  },
  {
   "metadata": {},
   "cell_type": "markdown",
   "source": "h. Describe the 2 methods you could have used to answer part g.",
   "id": "fa29e32bd1cf92e6"
  },
  {
   "metadata": {},
   "cell_type": "markdown",
   "source": [
    "方法一：数值计算：\n",
    "在这种方法中，我们通过计算隐含波动率的变化对期权价格的影响来得到损益。通过将隐含波动率减少5%，然后重新计算期权价格，最后得到价格变化（即损益）。\n",
    "方法二：敏感度分析：\n",
    "另一种方法是使用期权的敏感度指标（如Vega）。Vega衡量了隐含波动率变化对期权价格的影响。通过计算隐含波动率的变化并乘以Vega，可以得到期权价格的变化，从而推算出损益。"
   ],
   "id": "acb4ef69a98a82ae"
  },
  {
   "metadata": {},
   "cell_type": "code",
   "outputs": [],
   "execution_count": null,
   "source": "",
   "id": "20b716351a5d8f72"
  }
 ],
 "metadata": {
  "kernelspec": {
   "display_name": "Python 3",
   "language": "python",
   "name": "python3"
  },
  "language_info": {
   "codemirror_mode": {
    "name": "ipython",
    "version": 2
   },
   "file_extension": ".py",
   "mimetype": "text/x-python",
   "name": "python",
   "nbconvert_exporter": "python",
   "pygments_lexer": "ipython2",
   "version": "2.7.6"
  }
 },
 "nbformat": 4,
 "nbformat_minor": 5
}
