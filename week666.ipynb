{
 "cells": [
  {
   "cell_type": "code",
   "id": "initial_id",
   "metadata": {
    "collapsed": true,
    "ExecuteTime": {
     "end_time": "2024-12-13T00:40:25.371390Z",
     "start_time": "2024-12-13T00:40:25.345537Z"
    }
   },
   "source": [
    "import pandas as pd\n",
    "import numpy as np\n",
    "from scipy.stats import norm\n",
    "\n",
    "# 加载数据\n",
    "data = pd.read_csv('problem6.csv')\n",
    "\n",
    "# 检查数据结构\n",
    "print(\"原始数据：\")\n",
    "print(data.head())\n",
    "\n",
    "# 删除日期列，仅保留资产收益数据\n",
    "returns = data.iloc[:, 1:].pct_change().dropna()  # 假设后两列是资产A和资产B\n",
    "\n",
    "# 检查数据结构\n",
    "print(\"资产收益数据：\")\n",
    "print(returns.head())\n",
    "\n",
    "# 基本参数\n",
    "weights = np.array([100, 50])  # 资产A和资产B的权重\n"
   ],
   "outputs": [
    {
     "name": "stdout",
     "output_type": "stream",
     "text": [
      "原始数据：\n",
      "   Date          A          B\n",
      "0     0  92.858572  56.621590\n",
      "1     1  93.297528  57.480468\n",
      "2     2  96.196580  58.995037\n",
      "3     3  95.530679  58.960488\n",
      "4     4  94.754012  58.677351\n",
      "资产收益数据：\n",
      "          A         B\n",
      "1  0.004727  0.015169\n",
      "2  0.031073  0.026349\n",
      "3 -0.006922 -0.000586\n",
      "4 -0.008130 -0.004802\n",
      "5  0.010672 -0.012527\n"
     ]
    }
   ],
   "execution_count": 22
  },
  {
   "metadata": {},
   "cell_type": "code",
   "outputs": [],
   "execution_count": null,
   "source": "",
   "id": "4b85e2c6bd569b4e"
  },
  {
   "metadata": {},
   "cell_type": "markdown",
   "source": "# a. Assumptions",
   "id": "6940cded1b2dbfb1"
  },
  {
   "metadata": {
    "ExecuteTime": {
     "end_time": "2024-12-13T00:40:29.366743Z",
     "start_time": "2024-12-13T00:40:29.355597Z"
    }
   },
   "cell_type": "code",
   "source": [
    "# 6a. 计算投资组合的 5% VaR ($ 值)\n",
    "\n",
    "# 每日收益波动率\n",
    "sigma_a = returns['A'].std()\n",
    "sigma_b = returns['B'].std()\n",
    "\n",
    "# 投资组合波动率\n",
    "portfolio_volatility = np.sqrt((weights[0] * sigma_a)**2 + (weights[1] * sigma_b)**2)\n",
    "\n",
    "# 计算 5% VaR 的 $ 值\n",
    "var_5 = norm.ppf(0.05) * portfolio_volatility\n",
    "var_5_value = -var_5\n",
    "\n",
    "print(f\"投资组合的 5% VaR ($ 值): ${var_5_value:.2f}\")\n"
   ],
   "id": "a4edd43571f8d993",
   "outputs": [
    {
     "name": "stdout",
     "output_type": "stream",
     "text": [
      "投资组合的 5% VaR ($ 值): $2.54\n"
     ]
    }
   ],
   "execution_count": 23
  },
  {
   "metadata": {},
   "cell_type": "markdown",
   "source": "# b. Portfolio",
   "id": "857d71ec2a2a4dfc"
  },
  {
   "metadata": {
    "ExecuteTime": {
     "end_time": "2024-12-13T00:43:10.396440Z",
     "start_time": "2024-12-13T00:43:10.392340Z"
    }
   },
   "cell_type": "code",
   "source": [
    "# 基本参数\n",
    "risk_free_rate = 0.0475  # 无风险利率\n",
    "trading_days = 252  # 一年交易日\n",
    "strike_a = 100  # 资产A期权行权价\n",
    "implied_vol_a = 0.20  # 资产A期权隐含波动率\n",
    "strike_b = 100  # 资产B期权行权价\n",
    "call_price_b = 6.50  # 资产B期权当前价格\n",
    "ttm_b = 100 / trading_days  # 资产B期权到期时间（年化）"
   ],
   "id": "745aed90295582af",
   "outputs": [],
   "execution_count": 26
  },
  {
   "metadata": {},
   "cell_type": "markdown",
   "source": "# c. Using a delta normal approach, calculate the 1 day VaR and ES of the portfolio",
   "id": "e771e9f8ac1bd9fa"
  },
  {
   "metadata": {
    "ExecuteTime": {
     "end_time": "2024-12-13T00:43:25.979823Z",
     "start_time": "2024-12-13T00:43:25.972053Z"
    }
   },
   "cell_type": "code",
   "source": [
    "# 使用 Delta-Normal 方法计算 1 日 VaR 和 ES\n",
    "\n",
    "# 1 日 VaR\n",
    "var_1d = norm.ppf(0.05) * portfolio_volatility\n",
    "\n",
    "# 1 日 ES\n",
    "es_1d = portfolio_volatility * norm.pdf(norm.ppf(0.05)) / 0.05\n",
    "\n",
    "print(f\"Delta-Normal 方法的 1 日 VaR: ${-var_1d:.2f}\")\n",
    "print(f\"Delta-Normal 方法的 1 日 ES: ${-es_1d:.2f}\")\n"
   ],
   "id": "63bb5ead648dfa6a",
   "outputs": [
    {
     "name": "stdout",
     "output_type": "stream",
     "text": [
      "Delta-Normal 方法的 1 日 VaR: $2.54\n",
      "Delta-Normal 方法的 1 日 ES: $-3.19\n"
     ]
    }
   ],
   "execution_count": 27
  },
  {
   "metadata": {},
   "cell_type": "markdown",
   "source": "# d. Using a Monte Carlo simulation and assuming multivariate normality, calculate the 1 day VaR and ES of the portfolio.",
   "id": "3576ef4d1117b6ba"
  },
  {
   "metadata": {
    "ExecuteTime": {
     "end_time": "2024-12-13T00:43:50.443479Z",
     "start_time": "2024-12-13T00:43:50.398371Z"
    }
   },
   "cell_type": "code",
   "source": [
    "# 使用 Monte Carlo 模拟计算 1 日 VaR 和 ES\n",
    "\n",
    "n_simulations = 100000  # 模拟次数\n",
    "\n",
    "# 模拟收益率\n",
    "simulated_returns = np.random.multivariate_normal(\n",
    "    mean=returns.mean().values, \n",
    "    cov=cov_matrix, \n",
    "    size=n_simulations\n",
    ")\n",
    "\n",
    "# 模拟投资组合收益\n",
    "portfolio_returns = simulated_returns @ weights\n",
    "\n",
    "# 计算 1 日 VaR 和 ES\n",
    "var_mc = np.percentile(portfolio_returns, 5)\n",
    "es_mc = portfolio_returns[portfolio_returns <= var_mc].mean()\n",
    "\n",
    "print(f\"Monte Carlo 模拟的 1 日 VaR: ${-var_mc:.2f}\")\n",
    "print(f\"Monte Carlo 模拟的 1 日 ES: ${-es_mc:.2f}\")\n"
   ],
   "id": "f7eb31ca9d1063f1",
   "outputs": [
    {
     "name": "stdout",
     "output_type": "stream",
     "text": [
      "Monte Carlo 模拟的 1 日 VaR: $2.87\n",
      "Monte Carlo 模拟的 1 日 ES: $3.66\n"
     ]
    }
   ],
   "execution_count": 28
  },
  {
   "metadata": {},
   "cell_type": "markdown",
   "source": "# e. Using the best fit model for each asset (choose between a normal and a t\u0002distribution), calculate VaR and ES for the portfolio.",
   "id": "c757f9b5ef3a8d5c"
  },
  {
   "metadata": {
    "ExecuteTime": {
     "end_time": "2024-12-13T00:44:22.531687Z",
     "start_time": "2024-12-13T00:44:22.424793Z"
    }
   },
   "cell_type": "code",
   "source": [
    "# 拟合分布并计算 VaR 和 ES\n",
    "\n",
    "def calculate_var_es(data, alpha=0.05):\n",
    "    \"\"\"\n",
    "    根据最佳拟合分布计算 VaR 和 ES\n",
    "    \"\"\"\n",
    "    # 拟合正态分布\n",
    "    mu_norm, sigma_norm = norm.fit(data)\n",
    "    var_norm = norm.ppf(alpha, mu_norm, sigma_norm)\n",
    "    es_norm = mu_norm - sigma_norm * norm.pdf(norm.ppf(alpha)) / alpha\n",
    "\n",
    "    # 拟合 t 分布\n",
    "    df_t, loc_t, scale_t = t.fit(data)\n",
    "    var_t = t.ppf(alpha, df_t, loc=loc_t, scale=scale_t)\n",
    "    es_t = t.expect(lambda x: x, args=(df_t,), loc=loc_t, scale=scale_t, lb=-np.inf, ub=var_t) / alpha\n",
    "\n",
    "    return {'Normal': (-var_norm, -es_norm), 'T-Distribution': (-var_t, -es_t)}\n",
    "\n",
    "# 对每个资产计算 VaR 和 ES\n",
    "var_es_a = calculate_var_es(returns['A'])\n",
    "var_es_b = calculate_var_es(returns['B'])\n",
    "\n",
    "print(\"资产A的 VaR 和 ES:\")\n",
    "print(var_es_a)\n",
    "\n",
    "print(\"资产B的 VaR 和 ES:\")\n",
    "print(var_es_b)\n"
   ],
   "id": "dbc9c21252d41f90",
   "outputs": [
    {
     "name": "stdout",
     "output_type": "stream",
     "text": [
      "资产A的 VaR 和 ES:\n",
      "{'Normal': (0.02173121832769525, 0.02734945653111876), 'T-Distribution': (0.021731526250512525, 0.027349845579694984)}\n",
      "资产B的 VaR 和 ES:\n",
      "{'Normal': (0.02246389984153034, 0.028773565911026994), 'T-Distribution': (0.02246374099497776, 0.028773400370169285)}\n"
     ]
    }
   ],
   "execution_count": 30
  },
  {
   "metadata": {},
   "cell_type": "markdown",
   "source": "# f. Compare and contrast the results of a, b, and C. Which would you choose to use and why?",
   "id": "698d084a951e695b"
  },
  {
   "metadata": {
    "ExecuteTime": {
     "end_time": "2024-12-13T00:44:47.030213Z",
     "start_time": "2024-12-13T00:44:47.020801Z"
    }
   },
   "cell_type": "code",
   "source": [
    "# 比较三种方法的结果\n",
    "\n",
    "print(\"比较三种方法的结果:\")\n",
    "print(f\"6a 计算的 5% VaR: ${var_5_value:.2f}\")\n",
    "print(f\"6c Delta-Normal 方法的 1 日 VaR: ${-var_1d:.2f}, ES: ${-es_1d:.2f}\")\n",
    "print(f\"6d Monte Carlo 模拟的 1 日 VaR: ${-var_mc:.2f}, ES: ${-es_mc:.2f}\")\n",
    "print(\"6e 基于最佳拟合分布的方法已分别计算各资产的 VaR 和 ES。\")\n",
    "\n",
    "# 分析\n",
    "print(\"Delta-Normal 方法假设收益率服从正态分布，适用于线性资产组合，而 Monte Carlo 模拟更加灵活，适合处理非线性资产。\")\n",
    "print(\"拟合 t 分布的方法适合重尾数据，因此在实际中可能更为稳健。\")\n"
   ],
   "id": "f1841ceca58792bc",
   "outputs": [
    {
     "name": "stdout",
     "output_type": "stream",
     "text": [
      "比较三种方法的结果:\n",
      "6a 计算的 5% VaR: $2.54\n",
      "6c Delta-Normal 方法的 1 日 VaR: $2.54, ES: $-3.19\n",
      "6d Monte Carlo 模拟的 1 日 VaR: $2.87, ES: $3.66\n",
      "6e 基于最佳拟合分布的方法已分别计算各资产的 VaR 和 ES。\n",
      "Delta-Normal 方法假设收益率服从正态分布，适用于线性资产组合，而 Monte Carlo 模拟更加灵活，适合处理非线性资产。\n",
      "拟合 t 分布的方法适合重尾数据，因此在实际中可能更为稳健。\n"
     ]
    }
   ],
   "execution_count": 31
  },
  {
   "metadata": {},
   "cell_type": "code",
   "outputs": [],
   "execution_count": null,
   "source": "",
   "id": "be9ac7ac1f692e40"
  }
 ],
 "metadata": {
  "kernelspec": {
   "display_name": "Python 3",
   "language": "python",
   "name": "python3"
  },
  "language_info": {
   "codemirror_mode": {
    "name": "ipython",
    "version": 2
   },
   "file_extension": ".py",
   "mimetype": "text/x-python",
   "name": "python",
   "nbconvert_exporter": "python",
   "pygments_lexer": "ipython2",
   "version": "2.7.6"
  }
 },
 "nbformat": 4,
 "nbformat_minor": 5
}
